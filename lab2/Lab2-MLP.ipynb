{
 "cells": [
  {
   "cell_type": "code",
   "execution_count": 23,
   "id": "c2984207",
   "metadata": {},
   "outputs": [],
   "source": [
    "import numpy as np\n",
    "import matplotlib.pyplot as plt\n",
    "%matplotlib inline \n",
    "import pandas as pd\n",
    "import seaborn as sns\n",
    "import sklearn\n",
    "from sklearn.neural_network import MLPClassifier\n",
    "from sklearn.metrics import accuracy_score\n",
    "from tqdm import tqdm"
   ]
  },
  {
   "cell_type": "markdown",
   "id": "69ed03eb",
   "metadata": {},
   "source": [
    "## 1. Чтение данных\n"
   ]
  },
  {
   "cell_type": "markdown",
   "id": "710b22f0",
   "metadata": {},
   "source": [
    "Загружаем датасет из репозитория GitHub https://github.com/ArtyomGi/MachineLearning"
   ]
  },
  {
   "cell_type": "code",
   "execution_count": 24,
   "id": "df734da9",
   "metadata": {
    "scrolled": true
   },
   "outputs": [],
   "source": [
    "url = 'https://raw.githubusercontent.com/ArtyomGi/MachineLearning/main/MLP.csv'\n",
    "data_raw = pd.read_csv(url)"
   ]
  },
  {
   "cell_type": "code",
   "execution_count": 25,
   "id": "1076f5d7",
   "metadata": {},
   "outputs": [],
   "source": [
    "data_raw[\"Boxoffice\"] = data_raw[\"Boxoffice\"].apply(lambda v: float(str(v).replace(\",\", \"\").replace(\"$\", \"\")))\n",
    "data_raw[\"binary_boxoffice\"] = np.where(data_raw[\"Boxoffice\"] >= 1000000, 1, 0) # заменим 1 все суммы, которые >= 1000000, а 0 все остальные\n",
    "data_raw.drop(['Netflix Link', 'IMDb Link', 'Summary', 'Image', 'Poster', 'TMDb Trailer', 'Trailer Site'], axis=1, inplace = True)"
   ]
  },
  {
   "cell_type": "markdown",
   "id": "bb88cdfa",
   "metadata": {},
   "source": [
    "## 2. Предобработка\n",
    "Выполняется аналогично первой лабораторной работе"
   ]
  },
  {
   "cell_type": "markdown",
   "id": "f493ddc2",
   "metadata": {},
   "source": [
    "Преобразуем номинальные признаки в специальный категориальный тип. Сейчас они имеют тип объекта."
   ]
  },
  {
   "cell_type": "code",
   "execution_count": 26,
   "id": "a20b8e33",
   "metadata": {},
   "outputs": [],
   "source": [
    "data_raw['Series or Movie'] = data_raw['Series or Movie'].astype('category')\n",
    "data_raw['Runtime'] = data_raw['Runtime'].astype('category')"
   ]
  },
  {
   "cell_type": "markdown",
   "id": "b4a6d381",
   "metadata": {},
   "source": [
    "### Обработаем пропущенные значения"
   ]
  },
  {
   "cell_type": "code",
   "execution_count": 27,
   "id": "9339e5a5",
   "metadata": {},
   "outputs": [],
   "source": [
    "data_raw.fillna(data_raw.median(axis = 0), axis = 0 , inplace=True)\n",
    "\n",
    "data_raw['Genre'].fillna(data_raw['Genre'].mode().iloc[0], inplace=True)\n",
    "data_raw['Tags'].fillna(data_raw['Tags'].mode().iloc[0], inplace=True)\n",
    "data_raw['Languages'].fillna(data_raw['Languages'].mode().iloc[0], inplace=True)\n",
    "data_raw['Country Availability'].fillna(data_raw['Country Availability'].mode().iloc[0], inplace=True)\n",
    "data_raw['Runtime'].fillna(data_raw['Runtime'].mode().iloc[0], inplace=True)\n",
    "data_raw['Director'].fillna(data_raw['Director'].mode().iloc[0], inplace=True)\n",
    "data_raw['Writer'].fillna(data_raw['Writer'].mode().iloc[0], inplace=True)\n",
    "data_raw['Actors'].fillna(data_raw['Actors'].mode().iloc[0], inplace=True)\n",
    "data_raw['View Rating'].fillna(data_raw['View Rating'].mode().iloc[0], inplace=True)\n",
    "data_raw['Release Date'].fillna(data_raw['Release Date'].mode().iloc[0], inplace=True)\n",
    "data_raw['Production House'].fillna(data_raw['Production House'].mode().iloc[0], inplace=True)"
   ]
  },
  {
   "cell_type": "markdown",
   "id": "82dc9b08",
   "metadata": {},
   "source": [
    "### Обработаем категориальные признаки"
   ]
  },
  {
   "cell_type": "code",
   "execution_count": 28,
   "id": "40eda5d8",
   "metadata": {},
   "outputs": [],
   "source": [
    "data_new = data_raw.loc[:, ['Series or Movie', 'Hidden Gem Score', 'Runtime',\n",
    "                            'Rotten Tomatoes Score', 'Metacritic Score', 'Awards Received', 'Awards Nominated For',\n",
    "                            'IMDb Votes', 'binary_boxoffice']].copy()\n",
    "\n",
    "data_new['Series or Movie'] = pd.factorize(data_new['Series or Movie'])[0]\n",
    "\n",
    "Runtime_dummies = pd.get_dummies(data_new['Runtime'])\n",
    "data_new = pd.concat((data_new, Runtime_dummies), axis=1)\n",
    "data_new = data_new.drop(['Runtime'], axis=1)"
   ]
  },
  {
   "cell_type": "markdown",
   "id": "9816721d",
   "metadata": {},
   "source": [
    "### Нормализуем признаки"
   ]
  },
  {
   "cell_type": "markdown",
   "id": "67d3a937",
   "metadata": {},
   "source": [
    "Нормализуем признаки при помощи линейного преобразования к отрезку [0, 1]:"
   ]
  },
  {
   "cell_type": "code",
   "execution_count": 29,
   "id": "16ae082f",
   "metadata": {
    "scrolled": true
   },
   "outputs": [],
   "source": [
    "data_normalized = (data_new - data_new.min(axis=0)) / (data_new.max(axis=0) - data_new.min(axis=0))"
   ]
  },
  {
   "cell_type": "markdown",
   "id": "40537183",
   "metadata": {},
   "source": [
    "# 3. Разбивка данных на обучающие и тестовые признаки"
   ]
  },
  {
   "cell_type": "markdown",
   "id": "c6526a3d",
   "metadata": {},
   "source": [
    "Выделяем целевой столбец из таблицы:"
   ]
  },
  {
   "cell_type": "code",
   "execution_count": 30,
   "id": "dcf4a280",
   "metadata": {},
   "outputs": [],
   "source": [
    "X = data_normalized.drop(['binary_boxoffice'], axis = 1)\n",
    "y = data_normalized['binary_boxoffice']"
   ]
  },
  {
   "cell_type": "markdown",
   "id": "6a9c832f",
   "metadata": {},
   "source": [
    "Разбиваем данные на обучающую и тестовую выборки в соотношении 3:1, т.е. в обучающую выборку попадет 75% объектов, в тестовую 25%"
   ]
  },
  {
   "cell_type": "code",
   "execution_count": 31,
   "id": "be6d57de",
   "metadata": {},
   "outputs": [
    {
     "data": {
      "text/plain": [
       "(11610, 3870)"
      ]
     },
     "execution_count": 31,
     "metadata": {},
     "output_type": "execute_result"
    }
   ],
   "source": [
    "from sklearn.model_selection import train_test_split\n",
    "X_train, X_test, y_train, y_test = train_test_split(X, y, test_size = 0.25, random_state = 97)\n",
    "\n",
    "N_train = X_train.shape[0]\n",
    "N_test = X_test.shape[0]\n",
    "N_train, N_test"
   ]
  },
  {
   "cell_type": "markdown",
   "id": "5fc14dbf",
   "metadata": {},
   "source": [
    "# 4. Обучение классификатора MLP"
   ]
  },
  {
   "cell_type": "code",
   "execution_count": 32,
   "id": "42266e7b",
   "metadata": {},
   "outputs": [
    {
     "data": {
      "text/plain": [
       "MLPClassifier(activation='logistic', hidden_layer_sizes=(2,), random_state=190,\n",
       "              solver='lbfgs')"
      ]
     },
     "execution_count": 32,
     "metadata": {},
     "output_type": "execute_result"
    }
   ],
   "source": [
    "mlp = MLPClassifier(hidden_layer_sizes=(2,), solver=\"lbfgs\", activation=\"logistic\", random_state=190)\n",
    "mlp.fit(X_train, y_train)"
   ]
  },
  {
   "cell_type": "markdown",
   "id": "9cdfece0",
   "metadata": {},
   "source": [
    "Вычислим точность полученного классификатора"
   ]
  },
  {
   "cell_type": "code",
   "execution_count": 33,
   "id": "6f2212d2",
   "metadata": {
    "scrolled": true
   },
   "outputs": [
    {
     "name": "stdout",
     "output_type": "stream",
     "text": [
      "Train: 0.9351421188630491, Test: 0.9343669250645995\n"
     ]
    }
   ],
   "source": [
    "y_train_pred = mlp.predict(X_train)\n",
    "y_test_pred = mlp.predict(X_test)\n",
    "print(\"Train: {}, Test: {}\".format(\n",
    "    accuracy_score(y_train, y_train_pred),\n",
    "    accuracy_score(y_test, y_test_pred)\n",
    "))"
   ]
  },
  {
   "cell_type": "markdown",
   "id": "13dbf0de",
   "metadata": {},
   "source": [
    "# 5. Подбор гиперпараметров"
   ]
  },
  {
   "cell_type": "markdown",
   "id": "67ba9704",
   "metadata": {},
   "source": [
    "## Подбор параметра регуляризации"
   ]
  },
  {
   "cell_type": "markdown",
   "id": "f3946e0b",
   "metadata": {},
   "source": [
    "Подберем оптимальное значение параметра регуляризации $\\alpha$"
   ]
  },
  {
   "cell_type": "code",
   "execution_count": 34,
   "id": "c29039a6",
   "metadata": {},
   "outputs": [
    {
     "name": "stderr",
     "output_type": "stream",
     "text": [
      "100%|██████████████████████████████████████████████████████████████████████████████████| 21/21 [00:17<00:00,  1.21it/s]\n"
     ]
    }
   ],
   "source": [
    "alpha_arr = np.logspace(-3, 2.5, 21)\n",
    "test_err = []\n",
    "train_err = []\n",
    "train_acc = []\n",
    "test_acc = []\n",
    "\n",
    "for alpha in tqdm(alpha_arr):\n",
    "    mlp_model = MLPClassifier(alpha = alpha, hidden_layer_sizes = (2,), \n",
    "                              solver = 'lbfgs', activation = 'logistic', max_iter=1000, random_state = 42)\n",
    "    mlp_model.fit(X_train, y_train)\n",
    "\n",
    "    y_train_pred = mlp_model.predict(X_train)\n",
    "    y_test_pred = mlp_model.predict(X_test)\n",
    "    \n",
    "    train_err.append(np.mean(y_train != y_train_pred))\n",
    "    test_err.append(np.mean(y_test != y_test_pred))\n",
    "    train_acc.append(accuracy_score(y_train, y_train_pred))\n",
    "    test_acc.append(accuracy_score(y_test, y_test_pred))"
   ]
  },
  {
   "cell_type": "code",
   "execution_count": 35,
   "id": "d8fd7495",
   "metadata": {},
   "outputs": [
    {
     "data": {
      "image/png": "[encoded data removed]",
      "text/plain": [
       "<Figure size 432x288 with 1 Axes>"
      ]
     },
     "metadata": {
      "needs_background": "light"
     },
     "output_type": "display_data"
    }
   ],
   "source": [
    "plt.semilogx(alpha_arr, train_err, 'b-o', label = 'train')\n",
    "plt.semilogx(alpha_arr, test_err, 'r-o', label = 'test')\n",
    "plt.xlim([np.min(alpha_arr), np.max(alpha_arr)])\n",
    "plt.title('Error vs. alpha')\n",
    "plt.xlabel('alpha')\n",
    "plt.ylabel('error')\n",
    "plt.legend()\n",
    "pass"
   ]
  },
  {
   "cell_type": "code",
   "execution_count": 36,
   "id": "9cdbf400",
   "metadata": {
    "scrolled": true
   },
   "outputs": [
    {
     "data": {
      "image/png": "[encoded data removed]",
      "text/plain": [
       "<Figure size 432x288 with 1 Axes>"
      ]
     },
     "metadata": {
      "needs_background": "light"
     },
     "output_type": "display_data"
    }
   ],
   "source": [
    "plt.semilogx(alpha_arr, train_acc, 'b-o', label = 'train')\n",
    "plt.semilogx(alpha_arr, test_acc, 'r-o', label = 'test')\n",
    "plt.xlim([np.min(alpha_arr), np.max(alpha_arr)])\n",
    "plt.title('Accuracy vs. alpha')\n",
    "plt.xlabel('alpha')\n",
    "plt.ylabel('accuracy')\n",
    "plt.legend()\n",
    "pass"
   ]
  },
  {
   "cell_type": "markdown",
   "id": "2297a073",
   "metadata": {},
   "source": [
    "Из графиков видно, что большие значения $\\alpha$ ($\\alpha > 50$) приводят к недообучению нейронной сети. Точность на таких $\\alpha$ значительно падает\n",
    "\n",
    "В окрестности нуля наблюдается наименьшее отклонение в значениях точности на обучающей выборке и на тестовой выборке. При этом в этой окрестности точность одна из максимальных на всем графике"
   ]
  },
  {
   "cell_type": "markdown",
   "id": "4ee9045f",
   "metadata": {},
   "source": [
    "Минимальное значение ошибки:"
   ]
  },
  {
   "cell_type": "code",
   "execution_count": 37,
   "id": "c085e597",
   "metadata": {
    "scrolled": false
   },
   "outputs": [
    {
     "name": "stdout",
     "output_type": "stream",
     "text": [
      "0.06391042204995694 0.06434108527131784\n"
     ]
    }
   ],
   "source": [
    "min_train_err = np.min(train_err)\n",
    "min_test_err = np.min(test_err)\n",
    "print(min_train_err, min_test_err)"
   ]
  },
  {
   "cell_type": "markdown",
   "id": "1aa5b4c0",
   "metadata": {},
   "source": [
    "Найдем оптимальное значение $\\alpha$:"
   ]
  },
  {
   "cell_type": "code",
   "execution_count": 38,
   "id": "5614b19c",
   "metadata": {
    "scrolled": false
   },
   "outputs": [
    {
     "name": "stdout",
     "output_type": "stream",
     "text": [
      "0.012589254117941675\n"
     ]
    }
   ],
   "source": [
    "alpha_opt = alpha_arr[test_err == min_test_err][0]\n",
    "print(alpha_opt)\n"
   ]
  },
  {
   "cell_type": "markdown",
   "id": "1219af21",
   "metadata": {},
   "source": [
    "## Классификатор с найденным оптимальным числом $\\alpha$"
   ]
  },
  {
   "cell_type": "code",
   "execution_count": 39,
   "id": "83cd9cd3",
   "metadata": {
    "scrolled": true
   },
   "outputs": [
    {
     "name": "stdout",
     "output_type": "stream",
     "text": [
      "Train: 0.9342807924203274, Test: 0.9335917312661499\n"
     ]
    }
   ],
   "source": [
    "mlp_model = MLPClassifier(alpha = alpha_opt, hidden_layer_sizes=(2,), solver=\"lbfgs\",\n",
    "                          activation=\"logistic\", random_state=190)\n",
    "mlp_model.fit(X_train, y_train)\n",
    "\n",
    "y_train_pred = mlp_model.predict(X_train)\n",
    "y_test_pred = mlp_model.predict(X_test)\n",
    "print(\"Train: {}, Test: {}\".format(\n",
    "    accuracy_score(y_train, y_train_pred),\n",
    "    accuracy_score(y_test, y_test_pred)\n",
    "))"
   ]
  },
  {
   "cell_type": "markdown",
   "id": "609952ef",
   "metadata": {},
   "source": [
    "## Матрица рассогласования"
   ]
  },
  {
   "cell_type": "code",
   "execution_count": 40,
   "id": "79da7a2b",
   "metadata": {},
   "outputs": [
    {
     "name": "stdout",
     "output_type": "stream",
     "text": [
      "[[2996  134]\n",
      " [ 123  617]]\n"
     ]
    }
   ],
   "source": [
    "from sklearn.metrics import confusion_matrix\n",
    "print(confusion_matrix(y_test_pred, y_test))"
   ]
  },
  {
   "cell_type": "code",
   "execution_count": 41,
   "id": "f4c50ede",
   "metadata": {},
   "outputs": [
    {
     "data": {
      "image/png": "[encoded data removed]",
      "text/plain": [
       "<Figure size 432x288 with 2 Axes>"
      ]
     },
     "metadata": {
      "needs_background": "light"
     },
     "output_type": "display_data"
    }
   ],
   "source": [
    "from sklearn.metrics import plot_confusion_matrix\n",
    "plot_confusion_matrix(mlp_model, X_test, y_test)\n",
    "pass"
   ]
  },
  {
   "cell_type": "markdown",
   "id": "d8810af0",
   "metadata": {},
   "source": [
    "## Подбор числа нейронов"
   ]
  },
  {
   "cell_type": "code",
   "execution_count": 45,
   "id": "78bc6025",
   "metadata": {
    "scrolled": false
   },
   "outputs": [
    {
     "name": "stderr",
     "output_type": "stream",
     "text": [
      "100%|██████████████████████████████████████████████████████████████████████████████████| 10/10 [09:33<00:00, 57.38s/it]\n"
     ]
    }
   ],
   "source": [
    "hidden_layer_size = np.linspace(1, 100, 10).astype(int)\n",
    "test_err, train_err = [], []\n",
    "train_acc, test_acc = [], []\n",
    "\n",
    "for size in tqdm(hidden_layer_size):\n",
    "    model = MLPClassifier(alpha = alpha_opt, hidden_layer_sizes=(size,),\n",
    "                          max_iter=3000, solver=\"lbfgs\", activation=\"logistic\", random_state=190)\n",
    "    model.fit(X_train, y_train)\n",
    "\n",
    "    y_train_pred = model.predict(X_train)\n",
    "    y_test_pred = model.predict(X_test)\n",
    "    \n",
    "    train_err.append(np.mean(y_train != y_train_pred))\n",
    "    test_err.append(np.mean(y_test != y_test_pred))\n",
    "    \n",
    "    train_acc.append(accuracy_score(y_train, y_train_pred))\n",
    "    test_acc.append(accuracy_score(y_test, y_test_pred))"
   ]
  },
  {
   "cell_type": "code",
   "execution_count": 51,
   "id": "6fa75038",
   "metadata": {},
   "outputs": [
    {
     "data": {
      "image/png": "[encoded data removed]",
      "text/plain": [
       "<Figure size 432x288 with 1 Axes>"
      ]
     },
     "metadata": {
      "needs_background": "light"
     },
     "output_type": "display_data"
    }
   ],
   "source": [
    "plt.plot(hidden_layer_size, train_err, 'b-o', label = 'train')\n",
    "plt.plot(hidden_layer_size, test_err, 'r-o', label = 'test')\n",
    "plt.xlim([np.min(hidden_layer_size), np.max(hidden_layer_size)])\n",
    "plt.title('Error vs hidden_layer_size')\n",
    "plt.xlabel('hidden_layer_size')\n",
    "plt.ylabel('error')\n",
    "plt.legend()\n",
    "pass"
   ]
  },
  {
   "cell_type": "code",
   "execution_count": 49,
   "id": "f3941c23",
   "metadata": {},
   "outputs": [
    {
     "data": {
      "image/png": "[encoded data removed]",
      "text/plain": [
       "<Figure size 432x288 with 1 Axes>"
      ]
     },
     "metadata": {
      "needs_background": "light"
     },
     "output_type": "display_data"
    }
   ],
   "source": [
    "plt.plot(hidden_layer_size, train_acc, 'r-o', label = 'train')\n",
    "plt.plot(hidden_layer_size, test_acc, 'b-o', label = 'test')\n",
    "plt.xlim([np.min(hidden_layer_size), np.max(hidden_layer_size)])\n",
    "plt.title('Accuracy vs hidden_layer_size')\n",
    "plt.xlabel('hidden_layer_size')\n",
    "plt.ylabel('Accuracy')\n",
    "plt.legend()\n",
    "pass"
   ]
  },
  {
   "cell_type": "markdown",
   "id": "c6dcb579",
   "metadata": {},
   "source": [
    "Оптимальное значение числа нейронов около 10. В нейросети, содержащей менее 10 нейронов, точность на выборках относительно низкая. При дальнейшем увеличении числа нейронов более 10 происходит переобучение, точность на обучающей выборке резко растет, в то же время на обучающей выборке на некоторых участках точность снижается."
   ]
  },
  {
   "cell_type": "markdown",
   "id": "e1886b73",
   "metadata": {},
   "source": [
    "# 6. Общие выводы"
   ]
  },
  {
   "cell_type": "markdown",
   "id": "286784d8",
   "metadata": {},
   "source": [
    "#### 1. Подбор параметра регуляризации\n",
    "\n",
    "Исходя из графиков зависимости ошибки и точности от параметра регуляризации видно, что на значениях $\\alpha < 0$ переобучения у нейронной сети не возникает. Однако на значениях параметра $0 < \\alpha < 50$ наблюдается незначительное переобучение. Ошибка на тестовой выборке превышает ошибку на обучающей. При параметре $\\alpha > 50$ наблюдается сильное недообучение модели - возрастает ошибка, падает точность\n",
    "\n",
    "Оптимальное значение $\\alpha = 0.01258$.\n",
    "\n",
    "#### 2. Подбор числа нейронов при найденном $\\alpha$\n",
    "\n",
    "На графиках зависимости ошибки и точности от числа нейронов в нейросети можно наблюдать переобучение при значениях больших 10. Ошибка на некоторых участках тестовой выборки растет, точность соответственно падает. При этом на обучающей выборке точность резко растет. На значениях числа нейронов менее 10 точность на обучающей и тестовой выборках падает.\n",
    "\n",
    "Оптимальное значение числа нейронов 10."
   ]
  }
 ],
 "metadata": {
  "kernelspec": {
   "display_name": "Python 3",
   "language": "python",
   "name": "python3"
  },
  "language_info": {
   "codemirror_mode": {
    "name": "ipython",
    "version": 3
   },
   "file_extension": ".py",
   "mimetype": "text/x-python",
   "name": "python",
   "nbconvert_exporter": "python",
   "pygments_lexer": "ipython3",
   "version": "3.8.8"
  }
 },
 "nbformat": 4,
 "nbformat_minor": 5
}
